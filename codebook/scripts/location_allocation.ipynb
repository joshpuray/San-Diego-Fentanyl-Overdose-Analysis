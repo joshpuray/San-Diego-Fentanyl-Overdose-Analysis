{
 "cells": [
  {
   "cell_type": "markdown",
   "id": "860a19cd",
   "metadata": {},
   "source": [
    "# 1) Optimizing Resource Placement for Combating Fentanyl Overdose in San Diego"
   ]
  },
  {
   "cell_type": "markdown",
   "id": "aec1a5ad",
   "metadata": {},
   "source": [
    "# 2) Team Members\n",
    "- Devin Pham (A17198936)\n",
    "- Josh Puray (A16488499)\n"
   ]
  },
  {
   "cell_type": "markdown",
   "id": "4fb64fc0",
   "metadata": {},
   "source": [
    "# 3) Questions we addressed"
   ]
  },
  {
   "cell_type": "markdown",
   "id": "f19de17c",
   "metadata": {},
   "source": [
    "In this project, we will be addressing three main questions: \n",
    "- Where to place Fentanyl treatment facilities?\n",
    "- Where to place Fentanyl treatment antagonists (Naloxone)?\n",
    "\n",
    "Since our first project proposal, we’ve decided to change the wording of our second question from “treatment resources” to “treatment antagonists” to better encapsulate the types of resources that are available.\n",
    "\n",
    "From 2018 to 2022, San Diego saw an 800% increase in fentanyl overdose deaths. This exponential growth is alarming, and we must do what we can to address this crisis. Additionally, Fentanyl overdose was the number 1 cause of death among the homeless with 181 lives lost in 2022 (City of San Diego). Our questions are important because they help improve access to life-saving treatments for individuals struggling with Fentanyl addiction or overdose. As the number 1 cause of death among the homeless, our questions will help our most vulnerable population get the help they need to regain stability.\n",
    "\n",
    "This project is intended for public health officials who are responsible for the allocation of Fentanyl facilities and resource locations in San Diego. We must optimize the allocation of Fentanyl treatment resources as a timely treatment, especially in the case of an emergency, is crucial. \n"
   ]
  },
  {
   "cell_type": "markdown",
   "id": "8028b1fa",
   "metadata": {},
   "source": [
    "# 4) Background and literature"
   ]
  },
  {
   "cell_type": "markdown",
   "id": "50eb8723",
   "metadata": {},
   "source": [
    "Title: **San Diego Overdose Quarterly Report 2021**\n",
    "\n",
    "This document presents a quarterly analysis of overdose incidents in San Diego County for the year 2021. Using the report, we gained insights into the areas within San Diego most impacted by overdoses and identified the demographics most vulnerable to such occurrences. Utilizing this report facilitated our understanding of the locations likely to experience the highest rates of fentanyl overdose deaths.\n",
    "\n",
    "Link: https://www.sandiegocounty.gov/content/dam/sdc/hhsa/programs/phs/od2a/Overdose%20Quarterly%20Report_April%202023.pdf \n",
    "\n",
    "Title:**San Diego’s First Naloxone Vending Machine: A Lifesaving Innovation**\n",
    "\n",
    "Using the following reference, we learned that Naloxone vending machines are a new development in San Diego with the first vending machine being installed in Chula Vista, CA on November 27, 2023. Which inspired us to look for areas where these new up and coming resources can be placed to best figt against Fentanly overdose.\n",
    "\n",
    "Link: https://soarr.org/san-diegos-first-naloxone-vending-machine-a-lifesaving-innovation/\n",
    "\n",
    "Title: **San Diego's Naloxone Distribution Program**\n",
    "\n",
    "The San Diego Naloxone Distribution Program (NDP) is responsible for distributing Naloxone kits across the county. Since the launch of the program, NDP has allocated 33,160 naloxone kits and placed a total of 12 vending machines. This reference also tells us that these vending machines and distribution centers are intended for the community to get their hands on Naloxone ahead of time and not for immediate access. San Diego County recommends dialing 9-1-1 in the case of an emergency. Using this information, we have decided to focus on Naloxone vending machine allocation solely on places with high overdose fatalities.\n",
    "\n",
    "Link: https://www.sandiegocounty.gov/hhsa/programs/phs/od2a/naloxone.html#distribution\n",
    "\n",
    "Title: **CA Bridge**\n",
    "\n",
    "We did not know what CA Bridge was initially, but using the following reference, we were able to understand their necessity in Fentanyl overdose treatment. CA Bridge guarantees that everyone is able to access healthcare even if they are unable to pay. This is highly beneficial for disadvantaged communities such as the homeless community in San Diego who are unable to access traditional healthcare.\n",
    "\n",
    "Link: https://bridgetotreatment.org/about/"
   ]
  },
  {
   "cell_type": "markdown",
   "id": "b83a708e",
   "metadata": {},
   "source": [
    "# 5) Python packages used"
   ]
  },
  {
   "cell_type": "markdown",
   "id": "a476f421",
   "metadata": {},
   "source": [
    "**Pandas**:\n",
    "\n",
    "    We used pd to read in our CSV files. We set the option ‘display.max_columns’ \n",
    "    so that we could better understand our data when we were querying during our EDA.\n",
    "\n",
    "**Geopandas**:\n",
    "    \n",
    "    We used the GeoPandas package so that we can read in our Zip Code shapefile \n",
    "    and perform exploratory data analysis. \n",
    "    \n",
    "**MatPlotLib & Seaborn**:\n",
    "    \n",
    "    For exploratory data analysis and to create bar charts. \n",
    "    \n",
    "**IPython**:\n",
    "    \n",
    "    To display location allocation results on a map.\n",
    "\n",
    "**ArcGIS Packages**:\n",
    "\n",
    "    GIS: To access data in ArcGIS and API\n",
    "    network: To perform location allocation\n",
    "    analysis: To perform spatial joins between feature layers\n",
    "    features: To manipulate different features for the analysis\n",
    "    \n",
    "We used these ArcGIS packages to get our feature layers, work with spatial data, and perform spatial analysis. These packages were the most important as they were primarily used for our location allocation analysis. \n",
    "\n",
    "This list has not evolved when compared to our original proposal as we maintained the same methods to do location allocation analysis on additional zip codes."
   ]
  },
  {
   "cell_type": "code",
   "execution_count": 29,
   "id": "db05afc6",
   "metadata": {},
   "outputs": [],
   "source": [
    "import pandas as pd\n",
    "pd.set_option('display.max_columns', None)\n",
    "import seaborn as sns\n",
    "import matplotlib.pyplot as plt\n",
    "import geopandas as gpd\n",
    "from IPython.display import display\n",
    "\n",
    "\n",
    "# Removes warnings\n",
    "import warnings\n",
    "warnings.simplefilter(action='ignore', category=FutureWarning)\n",
    "\n",
    "\n",
    "from arcgis.gis import GIS\n",
    "import arcgis.network as network\n",
    "from arcgis.features import analysis\n",
    "from arcgis import features "
   ]
  },
  {
   "cell_type": "code",
   "execution_count": 2,
   "id": "828f5f0c",
   "metadata": {},
   "outputs": [
    {
     "name": "stdout",
     "output_type": "stream",
     "text": [
      "Please sign in to your GIS and paste the code that is obtained below.\n",
      "If a web browser does not automatically open, please navigate to the URL below yourself instead.\n",
      "Opening web browser to navigate to: https://ucsdonline.maps.arcgis.com/sharing/rest/oauth2/authorize?response_type=code&client_id=IWzNYKfUPUayU1hD&redirect_uri=urn%3Aietf%3Awg%3Aoauth%3A2.0%3Aoob&state=9cuAL2QphHZTEzK89t4oTW79ZPIR0S&allow_verification=false\n",
      "Enter code obtained on signing in using SAML: ········\n"
     ]
    },
    {
     "name": "stderr",
     "output_type": "stream",
     "text": [
      "/opt/conda/lib/python3.9/site-packages/urllib3/connectionpool.py:1013: InsecureRequestWarning: Unverified HTTPS request is being made to host 'ucsdonline.maps.arcgis.com'. Adding certificate verification is strongly advised. See: https://urllib3.readthedocs.io/en/1.26.x/advanced-usage.html#ssl-warnings\n",
      "  warnings.warn(\n"
     ]
    }
   ],
   "source": [
    "# To access GIS api\n",
    "gis = GIS(\"https://ucsdonline.maps.arcgis.com/home\", client_id=\"IWzNYKfUPUayU1hD\")"
   ]
  },
  {
   "cell_type": "markdown",
   "id": "ee37a5c2",
   "metadata": {},
   "source": [
    "# 6) Data Sources"
   ]
  },
  {
   "cell_type": "markdown",
   "id": "22018a2d",
   "metadata": {},
   "source": [
    "1. Medical examiner data containing Opioid-related deaths in San Diego, CA \n",
    "    URL: https://data.sandiegocounty.gov/Safety/Medical-Examiner-Cases/jkvb-n4p7/about_data\n",
    "\n",
    "    This dataset was provided to us directly from the San Diego County Sheriff's Department containing 3000+ records. We chose to filter by “Opioid-Fentanyl” and “Not A Suicide” using the website’s built-in filtering tool in order to do more targeted research. Because the data was recorded from 1997-2023, we were able to get the full context of the Fentanyl situation in San Diego County. \n",
    "\n",
    "2. Zip codes within San Diego County.\n",
    "    URL: https://data.sandiegocounty.gov/Maps-and-Geographical-Resources/Zip-Codes/vsuf-uefy\n",
    "    ID: \"ea950437eb5046daaf13082d8c001da4\"\n",
    "\n",
    "    We had no concerns about this dataset because it came straight from the County. Plotting the shapefile using GeoPandas gave us the perfect representation of San Diego County. \n",
    "\n",
    "3. This dataset is population by zip code within San Diego County.\n",
    "    URL: https://www.census.gov/programs-surveys/decennial-census/about/rdo.html\n",
    "\n",
    "    We couldn’t find a data source that contained all of the populations by zip codes in San Diego county so we made our own dataset using queries from the Census. The only concern here is human error, but we made sure to make careful data entry. We eventually used this dataset for normalization.\n",
    "\n",
    "4. SANDAG San Diego County Existing Locations Data\n",
    "    URL: https://rdw.sandag.org/Account/gisdtview?dir=Land%20Use\n",
    "    ID: \"69fb5a9d3c594733a0e62544542a7e9f\"\n",
    "   \n",
    "    This is the SANDAG Land Use data which we’ve used to find candidate resource locations by doing a spatial join with self-administered treatment locations. This dataset was last updated in 2022 which we believe is up-to-date assuming LU codes change infrequently. You can use the following pdf to find the description of each LU Code (Land Use Code):\n",
    "https://www.sandag.org/-/media/SANDAG/Documents/PDF/regional-plan/sustainable-growth-and-development/land-use/land-use-codes-2022.pdf\n",
    "\n",
    "5. Opioid Prevention, Safe Disposal and Treatment Resource Map\n",
    "    URL: https://ucsdonline.maps.arcgis.com/apps/mapviewer/index.html?webmap=69cf1bea508f4fb5a10d4075c1c36fc6\n",
    "    ID: \"c227f271096e4dcea3b465e5f7ef57d3\" (Vending Machines),\n",
    "    “2d492ec4f078454b8f8e1b2fa20c498c” (Distribution Centers)\n",
    "\n",
    "    This feature layer contains CA Bridge Hospitals, Naloxone Vending Machines and Distribution Locations, and Medication Assisted Treatment Centers. These feature layers were created on Oct 23, 2023 so it is relatively up-to-date. For our purpose, we will only be using  the Naloxone vending machines layer and Naloxone distribution centers layers. \n",
    "\n",
    "    We did not find additional data sources as the resource map we found was already suitable for our location allocation analysis.\n"
   ]
  },
  {
   "cell_type": "markdown",
   "id": "be5048ae",
   "metadata": {},
   "source": [
    "## Loading in Data"
   ]
  },
  {
   "cell_type": "code",
   "execution_count": 3,
   "id": "98a6cd28",
   "metadata": {},
   "outputs": [],
   "source": [
    "# import csv data\n",
    "deaths = gis.content.get(\"14ba9d24c6aa4c17bd28967101fa7207\").tables[0].query().sdf\n",
    "deaths['Event_Zip'] = deaths['Event_Zip'].astype('str')\n",
    "zip_population = gis.content.get(\"4d4f6e8f6464426b827ef07e2232b71b\").tables[0].query().sdf\n",
    "zip_population[\"Zip_Code\"] = zip_population[\"Zip_Code\"].astype('str')\n",
    "\n",
    "\n",
    "# import ArcGIS data\n",
    "land_use_id = \"69fb5a9d3c594733a0e62544542a7e9f\"\n",
    "zips_id = \"ea950437eb5046daaf13082d8c001da4\"\n",
    "\n",
    "land_use_fl = gis.content.get(land_use_id)\n",
    "zips_fl = gis.content.get(zips_id)"
   ]
  },
  {
   "cell_type": "markdown",
   "id": "b4249509",
   "metadata": {},
   "source": [
    "# 7) Data cleaning "
   ]
  },
  {
   "cell_type": "markdown",
   "id": "671128e8",
   "metadata": {},
   "source": [
    "The opioid prevention map features four layers of interest: CA Bridge Hospitals, Naloxone Vending Machines, Distribution Locations, and Medication Assisted Treatment Centers. For our analysis, we categorized these layers into two groups: Naloxone distribution locations and healthcare facilities, outlined as follows:\n",
    "- **Naloxone distribution locations:**\n",
    "    - Naloxone Vending Machines\n",
    "    - Naloxone Distribution Site\n",
    "- **Healthcare facilities:**\n",
    "    - CA Bridge Hospitals \n",
    "    - Medication Assisted Treatment Centers \n",
    "    \n",
    "After categorizing the data, we proceeded to aggregate the layers into their respective groups."
   ]
  },
  {
   "cell_type": "code",
   "execution_count": 4,
   "id": "f437cf4b",
   "metadata": {},
   "outputs": [
    {
     "data": {
      "text/html": [
       "<div class=\"item_container\" style=\"height: auto; overflow: hidden; border: 1px solid #cfcfcf; border-radius: 2px; background: #f6fafa; line-height: 1.21429em; padding: 10px;\">\n",
       "                    <div class=\"item_left\" style=\"width: 210px; float: left;\">\n",
       "                       <a href='https://UCSDOnline.maps.arcgis.com/home/item.html?id=2d492ec4f078454b8f8e1b2fa20c498c' target='_blank'>\n",
       "                        <img src='data:image/png;base64,iVBORw0KGgoAAAANSUhEUgAAAMgAAACFCAYAAAAenrcsAAAFl0lEQVR4Xu3d629TdRzHcf8R4yMvGCISoyI+kDgCAYaABIM3JgSGmkFA2ZgQyDY2HRfNJkKCgEIyUZAQZgI4MN4SUSGZF0QCJGPXdm3Xrus21naXjy08UH/Rb3CZPYfs/Ur2pN+T86jv9vzO2l/vEIB/dYf7AIA/EQhgIBDAQCCAgUAAA4EABgIBDAQCGAgEMBAIYCAQwEAggIFAAAOBAAYCAQwEAhgIBDAQCGAgEMBAIICBQAADgQAGAgEMBAIYCAQwEAhgIBDAQCCAgUAAA4EABgIBDAQCGAgEMBAIYCAQwEAgfjEycvMPvkIgPtDb3qLOsgK1la9UKt7tjuEhAvGBwJEDildPV3DFg0qc/8Edw0ME4gOpWFTN21epY3+Fhgauu2N4iED8gvWHLxGIn2WiGRkach9FDhGIj3V+tFOhNxYqcrreHSFHCMTHmovy1LczXx1lRe4IOUIgPhY+dVTNVUuV+PWcO0KOEMj/IbN2GB5MK/5dgyJH39dgf597xC0bYfHuKQIZY8PplKIf16pzy3KFNj2l3q1z1VV/1D0MtwkCGWOpSEjBDTMUK3tCl5c9qdZNC5Rsa3EPw22CQMZY9rZsV8NhddZt1WCih0uk2xyB+MBQZo2S6u5yH4YPEIjHBvt7Fdldomjlc0pc+Nkdw2ME4rF0NKK2ddMUKZms7tMn3DE8RiBey6xR+q9eVE/jtxoZHHSn8BiBAAYCAQwEAhgIBDAQCGAgEMBAIICBQAADgQAGAgEMBOKB7N5X0WN7FT35iYb5eImvEYgHot80qO+9xQqvy9PAtSZ3PDojI4o3nr3xPfahVNKdYpQIxAPJSFit1UsV2FWidDymkeFh95D/7Hprk4Klc9RTka/goQPuGKNEIF7JvOL3Xjin2I5CRT7d505vym7+kHk3uJWAkqFOXV35uFpW3KvomZPuGKNEIB4ZiITU8tp89dbOVKB4oTu+EUfs7BdqLXlG4SN73ek/Svd0K9kVZBvTMUQgHgl/Xq/O9VP0+4I7FfrskDtWOtalSNXzSlTl68qSWe4YOUIgOZTd0KH7q0wYB7YrUP2yrrwwSV0bZilUvkSp6N+/kz7Ym1Br+bNqW/OwuhrYetQrBJJD2S2BwmXzFa2crdZlU3R10QR1rJ2ktsLJCr5Tovi5rzNrjtSNTeeyhgeuZ0Lpcc6CXCKQHMo++QP7t+jyK3mKvTldwVWPKdpwXO01JUp++KLaimarvbJQzVWrlOqOqfvLeoXrapROEIlXCMQD2Sd805p8Nb86TbHGH9VSu1ktKyfol7y7FCrOU0/FHHXs361weWYRv22uuo4fcU+BHCEQD2QvtTrW56mzdKoCRXm6tPgRhTY+oMvzJuha6Ty1vz5VPee/V+CDSrVXFygZ7HBPgRwhEA9k/68RqNuliwvuVqJmhloW3aNI1Uy1bCzUcHJAQ/2Jvxycm1u2yXBA8bNnMu9ucXc0rhGIR7KR9Lc2KbAvsybZUKBLBfcreuaYe1jORN5dq+SelxQ5WOuOxjUC8Vj2dm6kZrVi5YsUbzzvjnMmuLdC7cUPqfvUYXc0rhGIx9KxqFqLp6tj9US17d7h2a/cZjetG+zLXNrdwsdaxhMC8YHOg2+reemj6ql6WoE9290xPEQgPhB8a5muLb9PodKJCmwrccfwEIH4QOK3nzKXV5sVOlGnND+D4CsEAhgIBDAQCGAgEMBAIICBQAADgQAGAgEMBAIYCAQwEAhgIBDAQCCAgUAAA4EABgIBDAQCGAgEMBAIYCAQwEAggIFAAAOBAAYCAQwEAhgIBDAQCGAgEMBAIICBQAADgQAGAgEMBAIYCAQwEAhgIBDAQCCAgUAAA4EABgIBDAQCGAgEMBAIYCAQwEAggIFAAAOBAAYCAQwEAhgIBDAQCGAgEMDwB2LHZz46HUpRAAAAAElFTkSuQmCC' width='200' height='133' class=\"itemThumbnail\">\n",
       "                       </a>\n",
       "                    </div>\n",
       "\n",
       "                    <div class=\"item_right\"     style=\"float: none; width: auto; overflow: hidden;\">\n",
       "                        <a href='https://UCSDOnline.maps.arcgis.com/home/item.html?id=2d492ec4f078454b8f8e1b2fa20c498c' target='_blank'><b>San Diego: Naloxone Distribution Locations</b>\n",
       "                        </a>\n",
       "                        <br/>Created by Devin Pham and Josh Puray<img src='https://UCSDOnline.maps.arcgis.com/home/js/jsapi/esri/css/images/item_type_icons/featureshosted16.png' style=\"vertical-align:middle;\" width=16 height=16>Feature Layer Collection by jpuray_UCSDOnline\n",
       "                        <br/>Last Modified: March 21, 2024\n",
       "                        <br/>0 comments, 50 views\n",
       "                    </div>\n",
       "                </div>\n",
       "                "
      ],
      "text/plain": [
       "<Item title:\"San Diego: Naloxone Distribution Locations\" type:Feature Layer Collection owner:jpuray_UCSDOnline>"
      ]
     },
     "execution_count": 4,
     "metadata": {},
     "output_type": "execute_result"
    }
   ],
   "source": [
    "# Merging Naloxone distribution locations into one feature layer \n",
    "\n",
    "# Read in each layer\n",
    "vending_machines = gis.content.get(\"c227f271096e4dcea3b465e5f7ef57d3\").layers[0]\n",
    "naloxone_sites = gis.content.get('11b3e21849b94101b5f761a10282b83b').layers[0]\n",
    "\n",
    "# Query each layer into a sdf \n",
    "vending_machines_sdf = vending_machines.query().sdf[['ObjectID','SHAPE']]\n",
    "vending_machines_sdf['Type'] = 'Vending Machine'\n",
    "naloxone_sites_sdf = naloxone_sites.query().sdf[['ObjectID','SHAPE']]\n",
    "naloxone_sites_sdf['Type'] = 'Naloxone Site'\n",
    "\n",
    "# Concat them together \n",
    "naloxone_distribution = pd.concat([vending_machines_sdf, naloxone_sites_sdf])\n",
    "naloxone_distribution.spatial.geometry = naloxone_distribution['SHAPE']\n",
    "\n",
    "# # Save as feature layer\n",
    "# naloxone_distribution.spatial.to_featurelayer(service={\"featureServiceId\":\"Naloxone Locations\", \"layer\":0})\n",
    "\n",
    "naloxone_distribution_locations = gis.content.get(\"2d492ec4f078454b8f8e1b2fa20c498c\")\n",
    "naloxone_distribution_locations"
   ]
  },
  {
   "cell_type": "code",
   "execution_count": 5,
   "id": "c9aaa347",
   "metadata": {},
   "outputs": [
    {
     "data": {
      "text/html": [
       "<div class=\"item_container\" style=\"height: auto; overflow: hidden; border: 1px solid #cfcfcf; border-radius: 2px; background: #f6fafa; line-height: 1.21429em; padding: 10px;\">\n",
       "                    <div class=\"item_left\" style=\"width: 210px; float: left;\">\n",
       "                       <a href='https://UCSDOnline.maps.arcgis.com/home/item.html?id=dd67aa51f0904bbab40adf37410682ee' target='_blank'>\n",
       "                        <img src='data:image/png;base64,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' width='200' height='133' class=\"itemThumbnail\">\n",
       "                       </a>\n",
       "                    </div>\n",
       "\n",
       "                    <div class=\"item_right\"     style=\"float: none; width: auto; overflow: hidden;\">\n",
       "                        <a href='https://UCSDOnline.maps.arcgis.com/home/item.html?id=dd67aa51f0904bbab40adf37410682ee' target='_blank'><b>SD Fentanly Treatment Centers and Hospitals</b>\n",
       "                        </a>\n",
       "                        <br/>Created by Devin Pham and Josh Puray<img src='https://UCSDOnline.maps.arcgis.com/home/js/jsapi/esri/css/images/item_type_icons/featureshosted16.png' style=\"vertical-align:middle;\" width=16 height=16>Feature Layer Collection by jpuray_UCSDOnline\n",
       "                        <br/>Last Modified: March 21, 2024\n",
       "                        <br/>0 comments, 19 views\n",
       "                    </div>\n",
       "                </div>\n",
       "                "
      ],
      "text/plain": [
       "<Item title:\"SD Fentanly Treatment Centers and Hospitals\" type:Feature Layer Collection owner:jpuray_UCSDOnline>"
      ]
     },
     "execution_count": 5,
     "metadata": {},
     "output_type": "execute_result"
    }
   ],
   "source": [
    "# Merging Healthcare Facilities into one feature layer \n",
    "\n",
    "# Read in each layer\n",
    "hospitals = gis.content.get(\"17e3d9f99ae042d48137f50e6f644697\").layers[0]\n",
    "centers = gis.content.get('ddcf731782494db0b39f87695833262f').layers[0]\n",
    "\n",
    "# Query each layer into a sdf \n",
    "hospitals_sdf = hospitals.query().sdf[['ObjectID','SHAPE']]\n",
    "hospitals_sdf['Type'] = 'Hospital'\n",
    "centers_sdf = centers.query().sdf[['ObjectID','SHAPE']]\n",
    "centers_sdf['Type'] = 'Treatment Center'\n",
    "\n",
    "# Concat them together \n",
    "hospitals_centers = pd.concat([hospitals_sdf, centers_sdf])\n",
    "hospitals_centers.spatial.geometry = hospitals_centers['SHAPE']\n",
    "\n",
    "# # Save as feature layer\n",
    "# hospitals_centers.spatial.to_featurelayer(service={\"featureServiceId\":\"hospitals_centers\", \"layer\":0})\n",
    "\n",
    "hospitals_treatment_locations = gis.content.get(\"dd67aa51f0904bbab40adf37410682ee\")\n",
    "hospitals_treatment_locations"
   ]
  },
  {
   "cell_type": "markdown",
   "id": "e3b992e3",
   "metadata": {},
   "source": [
    "# 8) Descriptive Statistics for the Data "
   ]
  },
  {
   "cell_type": "markdown",
   "id": "ebf51f1d",
   "metadata": {},
   "source": [
    "## a) Which groups are most affected by Fentanyl Overdose?"
   ]
  },
  {
   "cell_type": "markdown",
   "id": "365196a5",
   "metadata": {},
   "source": [
    "We plotted the number of Fentanyl Overdoses per year in San Diego County to see how much the Fentanyl Overdose by has increased over the years."
   ]
  },
  {
   "cell_type": "code",
   "execution_count": 6,
   "id": "25bd5233",
   "metadata": {},
   "outputs": [
    {
     "data": {
      "image/png": "[encoded data removed]",
      "text/plain": [
       "<Figure size 720x432 with 1 Axes>"
      ]
     },
     "metadata": {
      "needs_background": "light"
     },
     "output_type": "display_data"
    }
   ],
   "source": [
    "df = deaths.groupby('Year').size()[:-1].reset_index()\n",
    "df.columns = ['Year', 'Count']\n",
    "\n",
    "plt.figure(figsize=(10, 6))\n",
    "sns.barplot(x='Year', y='Count', data=df, color='red')\n",
    "plt.title('Deaths by Fentanyl Overdose by Year in San Diego, CA')\n",
    "plt.xlabel('Year')\n",
    "plt.ylabel('Number of Deaths')\n",
    "plt.xticks(rotation=45)\n",
    "plt.show()"
   ]
  },
  {
   "cell_type": "code",
   "execution_count": 7,
   "id": "9a086b8a",
   "metadata": {},
   "outputs": [
    {
     "data": {
      "image/png": "[encoded data removed]",
      "text/plain": [
       "<Figure size 576x432 with 1 Axes>"
      ]
     },
     "metadata": {
      "needs_background": "light"
     },
     "output_type": "display_data"
    }
   ],
   "source": [
    "# Count the number of deaths by gender\n",
    "death_counts = deaths['Gender'].value_counts()\n",
    "\n",
    "# Plotting\n",
    "plt.figure(figsize=(8, 6))\n",
    "death_counts.plot(kind='bar', color=['blue', 'red'])\n",
    "plt.title('Number of Deaths by Gender')\n",
    "plt.xlabel('Gender')\n",
    "plt.ylabel('Number of Deaths')\n",
    "plt.xticks(rotation=0)\n",
    "plt.show()"
   ]
  },
  {
   "cell_type": "markdown",
   "id": "6e88ca5b",
   "metadata": {},
   "source": [
    "We noticed a very concerning increase especially from 2018 to 2022, an almost 1000% increase. This demonstrated the urgency of this Fentanyl-Opioid Crisis, and how we must make careful decisions to allocate our treatment distribution centers and facilities.\n",
    "\n",
    "We also wanted to observe the number of deaths by Gender as we were curious to see how the Fentanyl-Opioid Crisis affected various demographics."
   ]
  },
  {
   "cell_type": "markdown",
   "id": "9e1896c3",
   "metadata": {},
   "source": [
    "We observed the male population to have significantly more Fentanyl-related deaths. Observing why this is the case is outside the scope of our project but we infer that this may be due to various factors such as differences in risk-taking behavior and/or mental health. Further research on the gender disparity in Fentanyl-related deaths is needed to gain more insights into the underlying reasons why the male population have significantly more Fentanyl-related deaths.\n",
    "We then plotted the age groups of deaths to see which age group was affected. We were provided three age group options, but eventually chose age group 1 which had 10 ages per bin since it was the simplest"
   ]
  },
  {
   "cell_type": "code",
   "execution_count": 8,
   "id": "1ce8734e",
   "metadata": {},
   "outputs": [
    {
     "data": {
      "image/png": "[encoded data removed]",
      "text/plain": [
       "<Figure size 720x432 with 1 Axes>"
      ]
     },
     "metadata": {
      "needs_background": "light"
     },
     "output_type": "display_data"
    }
   ],
   "source": [
    "# Count the occurrences of each age group\n",
    "age_group_counts = deaths['Age_Group_Option_1'].value_counts()\n",
    "\n",
    "# Sort age groups by converting index to categorical type and sorting\n",
    "age_order = ['0 to 09', '10 to 19', '20 to 29', '30 to 39', '40 to 49', '50 to 59', '60 to 69', '70 to 79', '80 to 89', '90+']\n",
    "age_group_counts = age_group_counts.reindex(age_order)\n",
    "\n",
    "# Plotting\n",
    "plt.figure(figsize=(10, 6))\n",
    "age_group_counts.plot(kind='bar', color='blue')\n",
    "plt.title('Distribution of Age Groups')\n",
    "plt.xlabel('Age Group')\n",
    "plt.ylabel('Number of Deaths')\n",
    "plt.xticks(rotation=45) \n",
    "plt.tight_layout()\n",
    "plt.show()"
   ]
  },
  {
   "cell_type": "markdown",
   "id": "7b28fca0",
   "metadata": {},
   "source": [
    "Plotting age groups, we can see that young adults are the most likely to have a Fentanyl-related death in San Diego County. This information tells us that we should allocate Naloxone distribution and treatment centers in places that young adults common access such as Universities.\n",
    "\n",
    "We also used a bar plot to see which races are affected by Fentanyl-related deaths in San Diego County."
   ]
  },
  {
   "cell_type": "code",
   "execution_count": 9,
   "id": "d3ad3f43",
   "metadata": {},
   "outputs": [
    {
     "data": {
      "image/png": "[encoded data removed]",
      "text/plain": [
       "<Figure size 720x432 with 1 Axes>"
      ]
     },
     "metadata": {
      "needs_background": "light"
     },
     "output_type": "display_data"
    }
   ],
   "source": [
    "value_counts = deaths['Ethnic_Group__Standardized_'].value_counts()\n",
    "\n",
    "# Plotting\n",
    "plt.figure(figsize=(10, 6))\n",
    "value_counts.plot(kind='barh')\n",
    "plt.xlabel('Count')\n",
    "plt.ylabel('Ethnic Group')\n",
    "plt.title('Number of Deaths by Ethnic Group')\n",
    "plt.show()"
   ]
  },
  {
   "cell_type": "markdown",
   "id": "77b06ca6",
   "metadata": {},
   "source": [
    "Fentanyl can be seen to affect Caucasians the most. This information will be useful in the future for targetted intervention.\n"
   ]
  },
  {
   "cell_type": "markdown",
   "id": "914e5641",
   "metadata": {},
   "source": [
    "## b) Which zipcodes have the highest rates of fentanyl death? "
   ]
  },
  {
   "cell_type": "markdown",
   "id": "a7a6465c",
   "metadata": {},
   "source": [
    "To begin our analysis, we must determine the zipcodes with a history of fentanyl overdose deaths. These areas will then serve as our study areas and the focal points for location allocation."
   ]
  },
  {
   "cell_type": "code",
   "execution_count": 10,
   "id": "0a22b37a",
   "metadata": {},
   "outputs": [
    {
     "data": {
      "text/html": [
       "<div>\n",
       "<style scoped>\n",
       "    .dataframe tbody tr th:only-of-type {\n",
       "        vertical-align: middle;\n",
       "    }\n",
       "\n",
       "    .dataframe tbody tr th {\n",
       "        vertical-align: top;\n",
       "    }\n",
       "\n",
       "    .dataframe thead th {\n",
       "        text-align: right;\n",
       "    }\n",
       "</style>\n",
       "<table border=\"1\" class=\"dataframe\">\n",
       "  <thead>\n",
       "    <tr style=\"text-align: right;\">\n",
       "      <th></th>\n",
       "      <th>FID</th>\n",
       "      <th>OBJECTID</th>\n",
       "      <th>ZIP</th>\n",
       "      <th>COMMUNITY</th>\n",
       "      <th>ShapeSTAre</th>\n",
       "      <th>ShapeSTLen</th>\n",
       "      <th>Shape__Area</th>\n",
       "      <th>Shape__Length</th>\n",
       "      <th>Zip_Code</th>\n",
       "      <th>Population</th>\n",
       "      <th>ObjectId</th>\n",
       "      <th>Deaths</th>\n",
       "      <th>Death_Per_1000</th>\n",
       "      <th>geometry</th>\n",
       "    </tr>\n",
       "  </thead>\n",
       "  <tbody>\n",
       "    <tr>\n",
       "      <th>0</th>\n",
       "      <td>1</td>\n",
       "      <td>1</td>\n",
       "      <td>91901</td>\n",
       "      <td>Alpine</td>\n",
       "      <td>4149898564.97491</td>\n",
       "      <td>326021.908292</td>\n",
       "      <td>547259650.601563</td>\n",
       "      <td>118442.543381</td>\n",
       "      <td>91901</td>\n",
       "      <td>17688</td>\n",
       "      <td>1</td>\n",
       "      <td>15.0</td>\n",
       "      <td>0.848033</td>\n",
       "      <td>MULTIPOLYGON (((-12996038.867 3890080.229, -12...</td>\n",
       "    </tr>\n",
       "    <tr>\n",
       "      <th>1</th>\n",
       "      <td>2</td>\n",
       "      <td>2</td>\n",
       "      <td>91902</td>\n",
       "      <td>Bonita</td>\n",
       "      <td>273909416.827828</td>\n",
       "      <td>113257.374615</td>\n",
       "      <td>36011919.320312</td>\n",
       "      <td>41055.715223</td>\n",
       "      <td>91902</td>\n",
       "      <td>17902</td>\n",
       "      <td>2</td>\n",
       "      <td>4.0</td>\n",
       "      <td>0.223439</td>\n",
       "      <td>MULTIPOLYGON (((-13021233.214 3856660.495, -13...</td>\n",
       "    </tr>\n",
       "    <tr>\n",
       "      <th>2</th>\n",
       "      <td>3</td>\n",
       "      <td>3</td>\n",
       "      <td>91905</td>\n",
       "      <td>Boulevard</td>\n",
       "      <td>2735681408.50449</td>\n",
       "      <td>241725.552214</td>\n",
       "      <td>360050810.96875</td>\n",
       "      <td>87755.238083</td>\n",
       "      <td>91905</td>\n",
       "      <td>1799</td>\n",
       "      <td>3</td>\n",
       "      <td>6.0</td>\n",
       "      <td>3.335186</td>\n",
       "      <td>MULTIPOLYGON (((-12938849.815 3862278.403, -12...</td>\n",
       "    </tr>\n",
       "    <tr>\n",
       "      <th>3</th>\n",
       "      <td>4</td>\n",
       "      <td>4</td>\n",
       "      <td>91906</td>\n",
       "      <td>Campo</td>\n",
       "      <td>3066759065.61607</td>\n",
       "      <td>287410.325075</td>\n",
       "      <td>403097382.382813</td>\n",
       "      <td>104153.754374</td>\n",
       "      <td>91906</td>\n",
       "      <td>3904</td>\n",
       "      <td>4</td>\n",
       "      <td>4.0</td>\n",
       "      <td>1.02459</td>\n",
       "      <td>MULTIPOLYGON (((-12952777.843 3856161.110, -12...</td>\n",
       "    </tr>\n",
       "    <tr>\n",
       "      <th>4</th>\n",
       "      <td>5</td>\n",
       "      <td>5</td>\n",
       "      <td>91910</td>\n",
       "      <td>Chula Vista</td>\n",
       "      <td>403437442.04701</td>\n",
       "      <td>112587.791814</td>\n",
       "      <td>52999517.335938</td>\n",
       "      <td>40777.084714</td>\n",
       "      <td>91910</td>\n",
       "      <td>79613</td>\n",
       "      <td>5</td>\n",
       "      <td>53.0</td>\n",
       "      <td>0.66572</td>\n",
       "      <td>MULTIPOLYGON (((-13031455.246 3848954.228, -13...</td>\n",
       "    </tr>\n",
       "  </tbody>\n",
       "</table>\n",
       "</div>"
      ],
      "text/plain": [
       "   FID  OBJECTID    ZIP    COMMUNITY        ShapeSTAre     ShapeSTLen  \\\n",
       "0    1         1  91901       Alpine  4149898564.97491  326021.908292   \n",
       "1    2         2  91902       Bonita  273909416.827828  113257.374615   \n",
       "2    3         3  91905    Boulevard  2735681408.50449  241725.552214   \n",
       "3    4         4  91906        Campo  3066759065.61607  287410.325075   \n",
       "4    5         5  91910  Chula Vista   403437442.04701  112587.791814   \n",
       "\n",
       "        Shape__Area  Shape__Length Zip_Code  Population  ObjectId  Deaths  \\\n",
       "0  547259650.601563  118442.543381    91901       17688         1    15.0   \n",
       "1   36011919.320312   41055.715223    91902       17902         2     4.0   \n",
       "2   360050810.96875   87755.238083    91905        1799         3     6.0   \n",
       "3  403097382.382813  104153.754374    91906        3904         4     4.0   \n",
       "4   52999517.335938   40777.084714    91910       79613         5    53.0   \n",
       "\n",
       "   Death_Per_1000                                           geometry  \n",
       "0        0.848033  MULTIPOLYGON (((-12996038.867 3890080.229, -12...  \n",
       "1        0.223439  MULTIPOLYGON (((-13021233.214 3856660.495, -13...  \n",
       "2        3.335186  MULTIPOLYGON (((-12938849.815 3862278.403, -12...  \n",
       "3         1.02459  MULTIPOLYGON (((-12952777.843 3856161.110, -12...  \n",
       "4         0.66572  MULTIPOLYGON (((-13031455.246 3848954.228, -13...  "
      ]
     },
     "execution_count": 10,
     "metadata": {},
     "output_type": "execute_result"
    }
   ],
   "source": [
    "# Prepping data \n",
    "deaths = deaths[~deaths[\"Event_Zip\"].isna()]\n",
    "deaths_per_zip = deaths.groupby(\"Event_Zip\").count().iloc[:,0]\n",
    "zips_sdf = zips_fl.layers[0].query().sdf\n",
    "\n",
    "# Getting total deaths and deaths per 1000 people for each zipcode \n",
    "zip_population[\"Deaths\"] = zip_population[\"Zip_Code\"].map(deaths_per_zip)\n",
    "zip_population['Death_Per_1000'] = (zip_population.Deaths / zip_population.Population) * 1000 \n",
    "zip_population['Deaths'] = zip_population['Zip_Code'].map(deaths_per_zip)\n",
    "zips_sdf.ZIP = zips_sdf.ZIP.astype('str')\n",
    "\n",
    "# Merging zip death statistics with zip population statistics\n",
    "zips_deaths_sdf = zips_sdf.merge(zip_population, left_on=\"ZIP\", right_on=\"Zip_Code\")\n",
    "zips_deaths_sdf = zips_deaths_sdf.set_geometry('SHAPE', drop=True)\n",
    "zips_deaths_sdf.head()"
   ]
  },
  {
   "cell_type": "markdown",
   "id": "3712e4a5",
   "metadata": {},
   "source": [
    "Once we compiled all the death data and calculated the death rates for each zip code, we created a choropleth map to visualize which zip codes had the highest death rates in San Diego County.\n",
    "\n",
    "To refine our analysis, we implemented a population threshold. We observed that certain areas exhibited disproportionately high death rates despite recording only a few actual deaths, likely due to their small populations. Setting a population threshold of 2000 yielded more meaningful results."
   ]
  },
  {
   "cell_type": "code",
   "execution_count": 11,
   "id": "dc49a430",
   "metadata": {},
   "outputs": [],
   "source": [
    "population_threshold = 2000\n",
    "zips_deaths_sdf = zips_deaths_sdf[zips_deaths_sdf['Population'] > population_threshold]"
   ]
  },
  {
   "cell_type": "code",
   "execution_count": 12,
   "id": "248e5e6a",
   "metadata": {},
   "outputs": [
    {
     "data": {
      "image/png": "[encoded data removed]",
      "text/plain": [
       "<Figure size 864x720 with 1 Axes>"
      ]
     },
     "metadata": {
      "needs_background": "light"
     },
     "output_type": "display_data"
    }
   ],
   "source": [
    "# Plot total deaths per zipcode\n",
    "zips_deaths_sdf.plot(column='Deaths', cmap='Blues', linewidth=0.8, \n",
    "                     scheme='fisher_jenks', edgecolor='0.8', legend=True, \n",
    "                     figsize=(12, 10))\n",
    "plt.title('San Diego: Total Fentanyl Overdose Deaths by Zip Code')\n",
    "plt.axis('off')\n",
    "plt.show()"
   ]
  },
  {
   "cell_type": "code",
   "execution_count": 14,
   "id": "555f4e11",
   "metadata": {},
   "outputs": [
    {
     "data": {
      "text/html": [
       "<div>\n",
       "<style scoped>\n",
       "    .dataframe tbody tr th:only-of-type {\n",
       "        vertical-align: middle;\n",
       "    }\n",
       "\n",
       "    .dataframe tbody tr th {\n",
       "        vertical-align: top;\n",
       "    }\n",
       "\n",
       "    .dataframe thead th {\n",
       "        text-align: right;\n",
       "    }\n",
       "</style>\n",
       "<table border=\"1\" class=\"dataframe\">\n",
       "  <thead>\n",
       "    <tr style=\"text-align: right;\">\n",
       "      <th></th>\n",
       "      <th>ZIP</th>\n",
       "      <th>COMMUNITY</th>\n",
       "      <th>Population</th>\n",
       "      <th>Deaths</th>\n",
       "      <th>Death_Per_1000</th>\n",
       "    </tr>\n",
       "  </thead>\n",
       "  <tbody>\n",
       "    <tr>\n",
       "      <th>47</th>\n",
       "      <td>92055</td>\n",
       "      <td>Camp Pendleton</td>\n",
       "      <td>9684</td>\n",
       "      <td>NaN</td>\n",
       "      <td>NaN</td>\n",
       "    </tr>\n",
       "    <tr>\n",
       "      <th>121</th>\n",
       "      <td>92536</td>\n",
       "      <td>Aguanga</td>\n",
       "      <td>3737</td>\n",
       "      <td>NaN</td>\n",
       "      <td>NaN</td>\n",
       "    </tr>\n",
       "    <tr>\n",
       "      <th>113</th>\n",
       "      <td>92140</td>\n",
       "      <td>San Diego</td>\n",
       "      <td>2183</td>\n",
       "      <td>NaN</td>\n",
       "      <td>NaN</td>\n",
       "    </tr>\n",
       "    <tr>\n",
       "      <th>111</th>\n",
       "      <td>92136</td>\n",
       "      <td>San Diego</td>\n",
       "      <td>7014</td>\n",
       "      <td>NaN</td>\n",
       "      <td>NaN</td>\n",
       "    </tr>\n",
       "    <tr>\n",
       "      <th>25</th>\n",
       "      <td>92003</td>\n",
       "      <td>Bonsall</td>\n",
       "      <td>4781</td>\n",
       "      <td>NaN</td>\n",
       "      <td>NaN</td>\n",
       "    </tr>\n",
       "  </tbody>\n",
       "</table>\n",
       "</div>"
      ],
      "text/plain": [
       "       ZIP       COMMUNITY  Population  Deaths  Death_Per_1000\n",
       "47   92055  Camp Pendleton        9684     NaN             NaN\n",
       "121  92536         Aguanga        3737     NaN             NaN\n",
       "113  92140       San Diego        2183     NaN             NaN\n",
       "111  92136       San Diego        7014     NaN             NaN\n",
       "25   92003         Bonsall        4781     NaN             NaN"
      ]
     },
     "execution_count": 14,
     "metadata": {},
     "output_type": "execute_result"
    }
   ],
   "source": [
    "zips_deaths_sdf.sort_values(by='Death_Per_1000', ascending=False)[:5][['ZIP','COMMUNITY','Population','Deaths','Death_Per_1000']]"
   ]
  },
  {
   "cell_type": "markdown",
   "id": "05948b6d",
   "metadata": {},
   "source": [
    "Looking closer at the data we can see the top 3 zipcodes with the highest deaths rates are '92101', '920954', and '92108'. These zipcodes are going to be our study areas for our analysis and created a feature layer to analyze these areas further. "
   ]
  },
  {
   "cell_type": "code",
   "execution_count": 15,
   "id": "9f825fba",
   "metadata": {
    "scrolled": true
   },
   "outputs": [
    {
     "data": {
      "text/html": [
       "<div class=\"item_container\" style=\"height: auto; overflow: hidden; border: 1px solid #cfcfcf; border-radius: 2px; background: #f6fafa; line-height: 1.21429em; padding: 10px;\">\n",
       "                    <div class=\"item_left\" style=\"width: 210px; float: left;\">\n",
       "                       <a href='https://UCSDOnline.maps.arcgis.com/home/item.html?id=ae85a2596afc40ba98325de68bd55da3' target='_blank'>\n",
       "                        <img src='data:image/png;base64,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' width='200' height='133' class=\"itemThumbnail\">\n",
       "                       </a>\n",
       "                    </div>\n",
       "\n",
       "                    <div class=\"item_right\"     style=\"float: none; width: auto; overflow: hidden;\">\n",
       "                        <a href='https://UCSDOnline.maps.arcgis.com/home/item.html?id=ae85a2596afc40ba98325de68bd55da3' target='_blank'><b>Top 3 SD Zip Codes by Fentanly Death Rate</b>\n",
       "                        </a>\n",
       "                        <br/>Created by Devin Pham and Josh Puray<img src='https://UCSDOnline.maps.arcgis.com/home/js/jsapi/esri/css/images/item_type_icons/featureshosted16.png' style=\"vertical-align:middle;\" width=16 height=16>Feature Layer Collection by jpuray_UCSDOnline\n",
       "                        <br/>Last Modified: March 21, 2024\n",
       "                        <br/>0 comments, 59 views\n",
       "                    </div>\n",
       "                </div>\n",
       "                "
      ],
      "text/plain": [
       "<Item title:\"Top 3 SD Zip Codes by Fentanly Death Rate\" type:Feature Layer Collection owner:jpuray_UCSDOnline>"
      ]
     },
     "execution_count": 15,
     "metadata": {},
     "output_type": "execute_result"
    }
   ],
   "source": [
    "top_3_zips = gis.content.get(\"ae85a2596afc40ba98325de68bd55da3\")\n",
    "top_3_zips"
   ]
  },
  {
   "cell_type": "markdown",
   "id": "21fa7068",
   "metadata": {},
   "source": [
    "# 9) Analysis\n",
    "\n",
    "## Workflow \n",
    "1. Define candiate points\n",
    "2. Define demand points\n",
    "3. Define competitor points\n",
    "4. Perform Relocation Allocation"
   ]
  },
  {
   "cell_type": "markdown",
   "id": "ec0fd97d",
   "metadata": {},
   "source": [
    "## a) Define Candidate Points"
   ]
  },
  {
   "cell_type": "markdown",
   "id": "b7912f54",
   "metadata": {},
   "source": [
    "For the next step in the analysis we must determine candidate points/locations (potential locations of where these new resources can be placed). We decided that new potential locations should be placed on areas that are similar to previous locations. \n",
    "\n",
    "To do this we utilized the San Diego Land Use dataset. If we look at the land use of the current locations we can use that to decide where new potential locations could be. \n",
    "\n",
    "To do this we utilized the San Diego Land Use dataset and spatially joined it with the feature layer that conatined the current locations. "
   ]
  },
  {
   "cell_type": "code",
   "execution_count": 13,
   "id": "d4f4b951",
   "metadata": {},
   "outputs": [],
   "source": [
    "# Identifying Naloxone Vending Machines and their respective Land Use Area \n",
    "\n",
    "\n",
    "vending_machine_land = analysis.join_features(\n",
    "    target_layer=vending_machines_fl, \n",
    "    join_layer=land_use_fl,\n",
    "    spatial_relationship=\"completely contains\",\n",
    "    join_operation=\"JoinOneToOne\",\n",
    "    output_name = \"Vending Machine Land Use\")\n",
    "\n",
    "# Identifying Naloxone Vending Machines and their respective Land Use Area \n",
    "\n",
    "\n",
    "vending_machine_land = analysis.join_features(\n",
    "    target_layer=vending_machines_fl, \n",
    "    join_layer=land_use_fl,\n",
    "    spatial_relationship=\"completely contains\",\n",
    "    join_operation=\"JoinOneToOne\",\n",
    "    output_name = \"SD Fentanly Treatment Centers and Hospitals Land Use\")"
   ]
  },
  {
   "cell_type": "code",
   "execution_count": 16,
   "id": "8818bd41",
   "metadata": {},
   "outputs": [
    {
     "data": {
      "text/html": [
       "<div class=\"item_container\" style=\"height: auto; overflow: hidden; border: 1px solid #cfcfcf; border-radius: 2px; background: #f6fafa; line-height: 1.21429em; padding: 10px;\">\n",
       "                    <div class=\"item_left\" style=\"width: 210px; float: left;\">\n",
       "                       <a href='https://UCSDOnline.maps.arcgis.com/home/item.html?id=0a59e8d06f1b4530a003e3bbd5524314' target='_blank'>\n",
       "                        <img src='data:image/png;base64,iVBORw0KGgoAAAANSUhEUgAAAMgAAACFCAYAAAAenrcsAAAEvUlEQVR4Xu3d628UVRyHcf41JQEtvYgRjK80MUZNMGDwAr1tKSZqaggpiQlJoQ3VojalF7vdbi9atIiVqpVLgaKAGqGQFGihV9r+3BlD6R7hm2i3c3bh+SSTTWfOJn3Rp2fOXmbWGICHWuPuAHAfgQACgQACgQACgQACgQACgQACgQACgQACgQACgQACgQACgQACgQACgQACgQACgQACgQACgQACgQACgQACgQACgQACgQACgQACgQACgQACgQACgQACgQACgQACgQACgQACgQACgQACgXi2uBhsi+5uZAkC8ejoj7/ay1Xd9sLuhH30ab97GFmAQDwJZo3NFW1WtKs33ArKk9Y/dNEdBs8IxJN4//BSHPe22vjP7jB4RiAevb6neymO/NK4nf/9ujsEnhGIRzcmpqyu4xerOPCNDV24mnZsdm7eFhZYvPtGIFlmPhVFLBVM3s4v7aUPu+zc5WvuEESIQLJMsA5Zvi55LXUaBn8IJMtUffZDWiDr3mp0hyBCBJJB8/MLNjUz5+7+T5r7TltRRc9SIOUHeX/EJwLJkLOXrtmL7yctr7jdymqO2t1ULP9X+7HzVhcfCrdbt6fdw4gQgWRIsFZYfmq0r2nQHYIcRCAZEqwVlgcSrCWQ+wgkQ6obB+6vHVKPnyRPukOQgwgkQ8bvTNuBtkGrajhu8dQaAo8GAgEEAgEEAgEEAgEEAgEEAgEEAgEEAgEEAgEEAgEEAgEEAgEEAgEEAnkEJL8fsYNtgzY4/Kd7CCtEIDnu894zVhj759uMweVLGzp/codgBQgkxxUWN/NNxlVEIDnO/S783sYT7hCsAIFE7ObElP11/Vb4mAlnfhu15yvjll+asK37vuL6vhlGIBFKfHfONsY6LL+sM3w8nfrjzoTgWlyjYxMrviYX/o1AIlSw88hD1wuT07M2Nj65bDSyAYFE6JmSljCM/NKO8JWnitp++2P0ZjizPBdrt43lHba7ts99GjwikAgFF6Zet73RCso77al3m23ttgbbUBq39W83Lc0qhRXdFj921n0qPCGQCLlXbl//zpFwK4x1pe3nTlPZg0Ai9KArtwezx/IZZFNlMtJXohLHR2xzrMXeq/vWbk/NuocfewQSoZ6BkbTZYu22w/b0jtbwHfAn36i3kv29NnwxuhvmHO4+FZ7S3ft9tuztcYc89ggkYpU1XfbElkOW92a9PVvWGq5Fgu3Vqk6bmbvrDl9VD5rRkI5APLgxPml3UqczwWyxvbrTSj5O2KUrY+6wVeeuibZWM4O4CMSjYK1RUNwSnmIVlcWtoeuUO2RVBTcK/aC+316pSlrx/q/Dn5GOQDza88WJtP/gG3Y0uUPgGYF45K4BgjUJsguBeBTctm3TrkQYR/D5rKY+3iDMNgTi2fTMnNW0DtjJC1fcQ8gCBAIIBAIIBAIIBAIIBAIIBAIIBAIIBAIIBAIIBAIIBAIIBAIIBAIIBAIIBAIIBAIIBAIIBAIIBAIIBAIIBAIIBAIIBAIIBAIIBAIIBAIIBAIIBAIIBAIIBAIIBAIIBAIIBAIIBAIIBAIIBAIIBAIIBAIIBAIIBAIIBAIIBAIIBAIIBAIIBAIIBAIIBAIIBAIIBAIIBAIIfwNGRhjXJaDYSgAAAABJRU5ErkJggg==' width='200' height='133' class=\"itemThumbnail\">\n",
       "                       </a>\n",
       "                    </div>\n",
       "\n",
       "                    <div class=\"item_right\"     style=\"float: none; width: auto; overflow: hidden;\">\n",
       "                        <a href='https://UCSDOnline.maps.arcgis.com/home/item.html?id=0a59e8d06f1b4530a003e3bbd5524314' target='_blank'><b>Vending_Machine_Land_Use</b>\n",
       "                        </a>\n",
       "                        <br/>Created by Devin Pham and Josh Puray<img src='https://UCSDOnline.maps.arcgis.com/home/js/jsapi/esri/css/images/item_type_icons/featureshosted16.png' style=\"vertical-align:middle;\" width=16 height=16>Feature Layer Collection by jpuray_UCSDOnline\n",
       "                        <br/>Last Modified: March 21, 2024\n",
       "                        <br/>0 comments, 33 views\n",
       "                    </div>\n",
       "                </div>\n",
       "                "
      ],
      "text/plain": [
       "<Item title:\"Vending_Machine_Land_Use\" type:Feature Layer Collection owner:jpuray_UCSDOnline>"
      ]
     },
     "execution_count": 16,
     "metadata": {},
     "output_type": "execute_result"
    }
   ],
   "source": [
    "vending_machine_lu = gis.content.get(\"0a59e8d06f1b4530a003e3bbd5524314\")\n",
    "vending_machine_lu"
   ]
  },
  {
   "cell_type": "code",
   "execution_count": 17,
   "id": "13ad3fe3",
   "metadata": {},
   "outputs": [
    {
     "data": {
      "text/html": [
       "<div class=\"item_container\" style=\"height: auto; overflow: hidden; border: 1px solid #cfcfcf; border-radius: 2px; background: #f6fafa; line-height: 1.21429em; padding: 10px;\">\n",
       "                    <div class=\"item_left\" style=\"width: 210px; float: left;\">\n",
       "                       <a href='https://UCSDOnline.maps.arcgis.com/home/item.html?id=1e0a2b904fc0431a8b5ee26b5f569412' target='_blank'>\n",
       "                        <img src='data:image/png;base64,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' width='200' height='133' class=\"itemThumbnail\">\n",
       "                       </a>\n",
       "                    </div>\n",
       "\n",
       "                    <div class=\"item_right\"     style=\"float: none; width: auto; overflow: hidden;\">\n",
       "                        <a href='https://UCSDOnline.maps.arcgis.com/home/item.html?id=1e0a2b904fc0431a8b5ee26b5f569412' target='_blank'><b>SD Fentanly Treatment Centers and Hospitals Land Use</b>\n",
       "                        </a>\n",
       "                        <br/>Created by Devin Pham and Josh Puray<img src='https://UCSDOnline.maps.arcgis.com/home/js/jsapi/esri/css/images/item_type_icons/featureshosted16.png' style=\"vertical-align:middle;\" width=16 height=16>Feature Layer Collection by jpuray_UCSDOnline\n",
       "                        <br/>Last Modified: March 21, 2024\n",
       "                        <br/>0 comments, 25 views\n",
       "                    </div>\n",
       "                </div>\n",
       "                "
      ],
      "text/plain": [
       "<Item title:\"SD Fentanly Treatment Centers and Hospitals Land Use\" type:Feature Layer Collection owner:jpuray_UCSDOnline>"
      ]
     },
     "execution_count": 17,
     "metadata": {},
     "output_type": "execute_result"
    }
   ],
   "source": [
    "hospital_treatment_lu = gis.content.get(\"1e0a2b904fc0431a8b5ee26b5f569412\")\n",
    "hospital_treatment_lu"
   ]
  },
  {
   "cell_type": "markdown",
   "id": "bea4ad9f",
   "metadata": {},
   "source": [
    "After joining the two feature layers together we can look at the type of land each resource is on."
   ]
  },
  {
   "cell_type": "code",
   "execution_count": 18,
   "id": "c50508f5",
   "metadata": {},
   "outputs": [
    {
     "name": "stdout",
     "output_type": "stream",
     "text": [
      "Naloxone Vending Machine and Distribution Center Land use codes:\n",
      "[5004, 5003, 6105, 7209, 1409, 9101, 2101, 6002, 1000, 5007, 1200]\n",
      "\n",
      "CA Bridge and Treatment Center Land codes:\n",
      "[6502, 6509, 6501, 1409, 5009, 5007, 6002, 1000, 5004, 1120, 6102, 5003, 2101, 4112]\n"
     ]
    }
   ],
   "source": [
    "# Getting Naloxone Vending Machine and Distribution Center Land codes\n",
    "vending_machine_lu_sdf = vending_machine_lu.layers[0].query().sdf\n",
    "vending_machine_lus = list(vending_machine_lu_sdf.lu.unique())\n",
    "\n",
    "# Getting CA Bridge Treatment Center Land codes\n",
    "hospital_treatment_lu_sdf = hospital_treatment_lu.layers[0].query().sdf\n",
    "hospital_treatment_lus = list(hospital_treatment_lu_sdf.lu.unique())\n",
    "\n",
    "print(f\"Naloxone Vending Machine and Distribution Center Land use codes:\\n{vending_machine_lus}\\n\")\n",
    "print(f\"CA Bridge and Treatment Center Land codes:\\n{hospital_treatment_lus}\")"
   ]
  },
  {
   "cell_type": "code",
   "execution_count": 19,
   "id": "3203b1c0",
   "metadata": {},
   "outputs": [
    {
     "data": {
      "text/plain": [
       "<AxesSubplot:title={'center':'Self-Administered Treatment Location Land Use'}>"
      ]
     },
     "execution_count": 19,
     "metadata": {},
     "output_type": "execute_result"
    },
    {
     "data": {
      "image/png": "[encoded data removed]",
      "text/plain": [
       "<Figure size 720x432 with 1 Axes>"
      ]
     },
     "metadata": {
      "needs_background": "light"
     },
     "output_type": "display_data"
    }
   ],
   "source": [
    "# Counts for Self-Administered Treatment Locations\n",
    "vending_machine_lu_sdf[\"DESCRIPTIO\"].value_counts().sort_values(ascending=True).plot(kind=\"barh\",\n",
    "                                                                                       title=\"Self-Administered Treatment Location Land Use\",\n",
    "                                                                                       figsize=(10,6),\n",
    "                                                                                        color='Orange')"
   ]
  },
  {
   "cell_type": "code",
   "execution_count": 20,
   "id": "585fc463",
   "metadata": {},
   "outputs": [
    {
     "data": {
      "text/plain": [
       "<AxesSubplot:title={'center':'Healthcare Facilities Land Use'}>"
      ]
     },
     "execution_count": 20,
     "metadata": {},
     "output_type": "execute_result"
    },
    {
     "data": {
      "image/png": "[encoded data removed]",
      "text/plain": [
       "<Figure size 720x432 with 1 Axes>"
      ]
     },
     "metadata": {
      "needs_background": "light"
     },
     "output_type": "display_data"
    }
   ],
   "source": [
    "# Counts for Healthcare Facilities\n",
    "hospital_treatment_lu_sdf[\"DESCRIPTIO\"].value_counts().sort_values(ascending=True).plot(kind=\"barh\",\n",
    "                                                                                       title=\"Healthcare Facilities Land Use\",\n",
    "                                                                                       figsize=(10,6))"
   ]
  },
  {
   "cell_type": "code",
   "execution_count": 21,
   "id": "17d45cba",
   "metadata": {},
   "outputs": [
    {
     "data": {
      "text/html": [
       "<div class=\"item_container\" style=\"height: auto; overflow: hidden; border: 1px solid #cfcfcf; border-radius: 2px; background: #f6fafa; line-height: 1.21429em; padding: 10px;\">\n",
       "                    <div class=\"item_left\" style=\"width: 210px; float: left;\">\n",
       "                       <a href='https://UCSDOnline.maps.arcgis.com/home/item.html?id=09cce22407454ceba3804be5552515a0' target='_blank'>\n",
       "                        <img src='data:image/png;base64,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' width='200' height='133' class=\"itemThumbnail\">\n",
       "                       </a>\n",
       "                    </div>\n",
       "\n",
       "                    <div class=\"item_right\"     style=\"float: none; width: auto; overflow: hidden;\">\n",
       "                        <a href='https://UCSDOnline.maps.arcgis.com/home/item.html?id=09cce22407454ceba3804be5552515a0' target='_blank'><b>Top 3 SD Zip Codes by Fentanly Death Rate Land Use Centroids</b>\n",
       "                        </a>\n",
       "                        <br/>Created by Devin Pham and Josh Puray<img src='https://UCSDOnline.maps.arcgis.com/home/js/jsapi/esri/css/images/item_type_icons/featureshosted16.png' style=\"vertical-align:middle;\" width=16 height=16>Feature Layer Collection by jpuray_UCSDOnline\n",
       "                        <br/>Last Modified: March 21, 2024\n",
       "                        <br/>0 comments, 31 views\n",
       "                    </div>\n",
       "                </div>\n",
       "                "
      ],
      "text/plain": [
       "<Item title:\"Top 3 SD Zip Codes by Fentanly Death Rate Land Use Centroids\" type:Feature Layer Collection owner:jpuray_UCSDOnline>"
      ]
     },
     "execution_count": 21,
     "metadata": {},
     "output_type": "execute_result"
    }
   ],
   "source": [
    "#For the next step in the analysis we must determine candidate points/locations (potential locations of where these new resources can be placed). We decided that new potential locations should be placed on areas that are similar to previous locations. \n",
    "\n",
    "lu_centroids_id = \"09cce22407454ceba3804be5552515a0\"\n",
    "lu_centroids_fl = gis.content.get(lu_centroids_id)\n",
    "lu_centroids_fl"
   ]
  },
  {
   "cell_type": "markdown",
   "id": "718e7051",
   "metadata": {},
   "source": [
    "This layer was created by getting the land use centroids only within the boundries of our study areas (top 3 zip codes by death rate). This was created because the land use data had too much data for us to load in and query so we only got the centroids from our areas of interest. \n",
    "\n",
    "Using the land use information we recieved above we will then query this layer to only get centroids with a similar land use. Which will then serve as our candidate points for the location allocation. "
   ]
  },
  {
   "cell_type": "markdown",
   "id": "fe4aeade",
   "metadata": {},
   "source": [
    "## b) Define Demand Points"
   ]
  },
  {
   "cell_type": "markdown",
   "id": "6ae8090d",
   "metadata": {},
   "source": [
    "Next we will define the demand points. To **maximize attendance** to these new resources we will define our demand points as centroids of census tracts as this will serve as a proxy for where people are located within each zipcode.\n",
    "\n",
    "To do this we did the follwing stesp in ArcGIS Map Viewer Analysis:\n",
    "1. Geo-Enriched Census Tract data to get population (To weigh demand points later) \n",
    "2. Created centroids of Census Tracts in San Diego\n",
    "3. Spatially joined these centroids with Zipcodes:\n",
    "    - Target layer: Census Centroids\n",
    "    - Join layer: San Diego Zips\n",
    "    - Spatial relationship: Completley Within (Joined First Instance) \n",
    "    "
   ]
  },
  {
   "cell_type": "markdown",
   "id": "ca86f3dc",
   "metadata": {},
   "source": [
    "The final result was the following feature layer which contains the centroids of each census tract in San Diego along with their respective zip codes and populations. "
   ]
  },
  {
   "cell_type": "code",
   "execution_count": 22,
   "id": "7b68e012",
   "metadata": {},
   "outputs": [
    {
     "data": {
      "text/html": [
       "<div class=\"item_container\" style=\"height: auto; overflow: hidden; border: 1px solid #cfcfcf; border-radius: 2px; background: #f6fafa; line-height: 1.21429em; padding: 10px;\">\n",
       "                    <div class=\"item_left\" style=\"width: 210px; float: left;\">\n",
       "                       <a href='https://UCSDOnline.maps.arcgis.com/home/item.html?id=49c64aacb2e243638aca42e6af4a5080' target='_blank'>\n",
       "                        <img src='data:image/png;base64,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' width='200' height='133' class=\"itemThumbnail\">\n",
       "                       </a>\n",
       "                    </div>\n",
       "\n",
       "                    <div class=\"item_right\"     style=\"float: none; width: auto; overflow: hidden;\">\n",
       "                        <a href='https://UCSDOnline.maps.arcgis.com/home/item.html?id=49c64aacb2e243638aca42e6af4a5080' target='_blank'><b>SD_CENSUS_TRACT_2020_CENTROIDS_ZIPS</b>\n",
       "                        </a>\n",
       "                        <br/>Created by Devin Pham and Josh Puray<img src='https://UCSDOnline.maps.arcgis.com/home/js/jsapi/esri/css/images/item_type_icons/featureshosted16.png' style=\"vertical-align:middle;\" width=16 height=16>Feature Layer Collection by jpuray_UCSDOnline\n",
       "                        <br/>Last Modified: March 21, 2024\n",
       "                        <br/>0 comments, 32 views\n",
       "                    </div>\n",
       "                </div>\n",
       "                "
      ],
      "text/plain": [
       "<Item title:\"SD_CENSUS_TRACT_2020_CENTROIDS_ZIPS\" type:Feature Layer Collection owner:jpuray_UCSDOnline>"
      ]
     },
     "execution_count": 22,
     "metadata": {},
     "output_type": "execute_result"
    }
   ],
   "source": [
    "census_tract_centroids_fl = gis.content.get(\"49c64aacb2e243638aca42e6af4a5080\")\n",
    "census_tract_centroids_fl"
   ]
  },
  {
   "cell_type": "markdown",
   "id": "fa39cafa",
   "metadata": {},
   "source": [
    "## c) Define Competitor Points"
   ]
  },
  {
   "cell_type": "markdown",
   "id": "f2a9c3e4",
   "metadata": {},
   "source": [
    "Competitor points will be defined as current self-administered treatment sites and healthcare facilities. This approach aims to optimize our outreach to meet demand points by aligning with the existing facilities in our study areas."
   ]
  },
  {
   "cell_type": "code",
   "execution_count": 23,
   "id": "276f18b7",
   "metadata": {},
   "outputs": [],
   "source": [
    "# Competitor points are defined as follows:\n",
    "naloxone_distribution_locations = gis.content.get(\"2d492ec4f078454b8f8e1b2fa20c498c\")\n",
    "hospitals_treatment_locations = gis.content.get(\"dd67aa51f0904bbab40adf37410682ee\")"
   ]
  },
  {
   "cell_type": "code",
   "execution_count": 24,
   "id": "7f5b62a3",
   "metadata": {},
   "outputs": [
    {
     "data": {
      "text/html": [
       "<div class=\"item_container\" style=\"height: auto; overflow: hidden; border: 1px solid #cfcfcf; border-radius: 2px; background: #f6fafa; line-height: 1.21429em; padding: 10px;\">\n",
       "                    <div class=\"item_left\" style=\"width: 210px; float: left;\">\n",
       "                       <a href='https://UCSDOnline.maps.arcgis.com/home/item.html?id=2d492ec4f078454b8f8e1b2fa20c498c' target='_blank'>\n",
       "                        <img src='data:image/png;base64,iVBORw0KGgoAAAANSUhEUgAAAMgAAACFCAYAAAAenrcsAAAFl0lEQVR4Xu3d629TdRzHcf8R4yMvGCISoyI+kDgCAYaABIM3JgSGmkFA2ZgQyDY2HRfNJkKCgEIyUZAQZgI4MN4SUSGZF0QCJGPXdm3Xrus21naXjy08UH/Rb3CZPYfs/Ur2pN+T86jv9vzO2l/vEIB/dYf7AIA/EQhgIBDAQCCAgUAAA4EABgIBDAQCGAgEMBAIYCAQwEAggIFAAAOBAAYCAQwEAhgIBDAQCGAgEMBAIICBQAADgQAGAgEMBAIYCAQwEAhgIBDAQCCAgUAAA4EABgIBDAQCGAgEMBAIYCAQwEAgfjEycvMPvkIgPtDb3qLOsgK1la9UKt7tjuEhAvGBwJEDildPV3DFg0qc/8Edw0ME4gOpWFTN21epY3+Fhgauu2N4iED8gvWHLxGIn2WiGRkach9FDhGIj3V+tFOhNxYqcrreHSFHCMTHmovy1LczXx1lRe4IOUIgPhY+dVTNVUuV+PWcO0KOEMj/IbN2GB5MK/5dgyJH39dgf597xC0bYfHuKQIZY8PplKIf16pzy3KFNj2l3q1z1VV/1D0MtwkCGWOpSEjBDTMUK3tCl5c9qdZNC5Rsa3EPw22CQMZY9rZsV8NhddZt1WCih0uk2xyB+MBQZo2S6u5yH4YPEIjHBvt7Fdldomjlc0pc+Nkdw2ME4rF0NKK2ddMUKZms7tMn3DE8RiBey6xR+q9eVE/jtxoZHHSn8BiBAAYCAQwEAhgIBDAQCGAgEMBAIICBQAADgQAGAgEMBOKB7N5X0WN7FT35iYb5eImvEYgHot80qO+9xQqvy9PAtSZ3PDojI4o3nr3xPfahVNKdYpQIxAPJSFit1UsV2FWidDymkeFh95D/7Hprk4Klc9RTka/goQPuGKNEIF7JvOL3Xjin2I5CRT7d505vym7+kHk3uJWAkqFOXV35uFpW3KvomZPuGKNEIB4ZiITU8tp89dbOVKB4oTu+EUfs7BdqLXlG4SN73ek/Svd0K9kVZBvTMUQgHgl/Xq/O9VP0+4I7FfrskDtWOtalSNXzSlTl68qSWe4YOUIgOZTd0KH7q0wYB7YrUP2yrrwwSV0bZilUvkSp6N+/kz7Ym1Br+bNqW/OwuhrYetQrBJJD2S2BwmXzFa2crdZlU3R10QR1rJ2ktsLJCr5Tovi5rzNrjtSNTeeyhgeuZ0Lpcc6CXCKQHMo++QP7t+jyK3mKvTldwVWPKdpwXO01JUp++KLaimarvbJQzVWrlOqOqfvLeoXrapROEIlXCMQD2Sd805p8Nb86TbHGH9VSu1ktKyfol7y7FCrOU0/FHHXs361weWYRv22uuo4fcU+BHCEQD2QvtTrW56mzdKoCRXm6tPgRhTY+oMvzJuha6Ty1vz5VPee/V+CDSrVXFygZ7HBPgRwhEA9k/68RqNuliwvuVqJmhloW3aNI1Uy1bCzUcHJAQ/2Jvxycm1u2yXBA8bNnMu9ucXc0rhGIR7KR9Lc2KbAvsybZUKBLBfcreuaYe1jORN5dq+SelxQ5WOuOxjUC8Vj2dm6kZrVi5YsUbzzvjnMmuLdC7cUPqfvUYXc0rhGIx9KxqFqLp6tj9US17d7h2a/cZjetG+zLXNrdwsdaxhMC8YHOg2+reemj6ql6WoE9290xPEQgPhB8a5muLb9PodKJCmwrccfwEIH4QOK3nzKXV5sVOlGnND+D4CsEAhgIBDAQCGAgEMBAIICBQAADgQAGAgEMBAIYCAQwEAhgIBDAQCCAgUAAA4EABgIBDAQCGAgEMBAIYCAQwEAggIFAAAOBAAYCAQwEAhgIBDAQCGAgEMBAIICBQAADgQAGAgEMBAIYCAQwEAhgIBDAQCCAgUAAA4EABgIBDAQCGAgEMBAIYCAQwEAggIFAAAOBAAYCAQwEAhgIBDAQCGAgEMDwB2LHZz46HUpRAAAAAElFTkSuQmCC' width='200' height='133' class=\"itemThumbnail\">\n",
       "                       </a>\n",
       "                    </div>\n",
       "\n",
       "                    <div class=\"item_right\"     style=\"float: none; width: auto; overflow: hidden;\">\n",
       "                        <a href='https://UCSDOnline.maps.arcgis.com/home/item.html?id=2d492ec4f078454b8f8e1b2fa20c498c' target='_blank'><b>San Diego: Naloxone Distribution Locations</b>\n",
       "                        </a>\n",
       "                        <br/>Created by Devin Pham and Josh Puray<img src='https://UCSDOnline.maps.arcgis.com/home/js/jsapi/esri/css/images/item_type_icons/featureshosted16.png' style=\"vertical-align:middle;\" width=16 height=16>Feature Layer Collection by jpuray_UCSDOnline\n",
       "                        <br/>Last Modified: March 21, 2024\n",
       "                        <br/>0 comments, 51 views\n",
       "                    </div>\n",
       "                </div>\n",
       "                "
      ],
      "text/plain": [
       "<Item title:\"San Diego: Naloxone Distribution Locations\" type:Feature Layer Collection owner:jpuray_UCSDOnline>"
      ]
     },
     "execution_count": 24,
     "metadata": {},
     "output_type": "execute_result"
    }
   ],
   "source": [
    "naloxone_distribution_locations"
   ]
  },
  {
   "cell_type": "code",
   "execution_count": 25,
   "id": "0d3b43ec",
   "metadata": {},
   "outputs": [
    {
     "data": {
      "text/html": [
       "<div class=\"item_container\" style=\"height: auto; overflow: hidden; border: 1px solid #cfcfcf; border-radius: 2px; background: #f6fafa; line-height: 1.21429em; padding: 10px;\">\n",
       "                    <div class=\"item_left\" style=\"width: 210px; float: left;\">\n",
       "                       <a href='https://UCSDOnline.maps.arcgis.com/home/item.html?id=dd67aa51f0904bbab40adf37410682ee' target='_blank'>\n",
       "                        <img src='data:image/png;base64,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' width='200' height='133' class=\"itemThumbnail\">\n",
       "                       </a>\n",
       "                    </div>\n",
       "\n",
       "                    <div class=\"item_right\"     style=\"float: none; width: auto; overflow: hidden;\">\n",
       "                        <a href='https://UCSDOnline.maps.arcgis.com/home/item.html?id=dd67aa51f0904bbab40adf37410682ee' target='_blank'><b>SD Fentanly Treatment Centers and Hospitals</b>\n",
       "                        </a>\n",
       "                        <br/>Created by Devin Pham and Josh Puray<img src='https://UCSDOnline.maps.arcgis.com/home/js/jsapi/esri/css/images/item_type_icons/featureshosted16.png' style=\"vertical-align:middle;\" width=16 height=16>Feature Layer Collection by jpuray_UCSDOnline\n",
       "                        <br/>Last Modified: March 21, 2024\n",
       "                        <br/>0 comments, 19 views\n",
       "                    </div>\n",
       "                </div>\n",
       "                "
      ],
      "text/plain": [
       "<Item title:\"SD Fentanly Treatment Centers and Hospitals\" type:Feature Layer Collection owner:jpuray_UCSDOnline>"
      ]
     },
     "execution_count": 25,
     "metadata": {},
     "output_type": "execute_result"
    }
   ],
   "source": [
    "hospitals_treatment_locations"
   ]
  },
  {
   "cell_type": "markdown",
   "id": "73d59a47",
   "metadata": {},
   "source": [
    "## d) Relocation Allocation"
   ]
  },
  {
   "cell_type": "markdown",
   "id": "de934dc2",
   "metadata": {},
   "source": [
    "For location allocation we had to do one zipcode at a time as well as one resource category at a time because location allocation can only do 1000 points at a time. "
   ]
  },
  {
   "cell_type": "code",
   "execution_count": 32,
   "id": "5772c825",
   "metadata": {},
   "outputs": [],
   "source": [
    "def location_allocation(candidates_fl, demand_fl,  competitors_fl, zipcode, lu_conditions):\n",
    "    lu_conditions = \" or \".join([f\"lu='{lu}'\" for lu in lu_conditions])\n",
    "    query = f\"ZIP={zipcode} and ({lu_conditions})\"\n",
    "    \n",
    "    # Create facilities \n",
    "    candidate_facilities = candidates_fl.layers[0].query(where=query, as_df=False)\n",
    "    demand_points = demand_fl.layers[0].query(where=f'ZIP={zipcode}', as_df=False)\n",
    "    competitor_facilities = competitors_fl.layers[0].query(where=\"1=1\", as_df=False)\n",
    "    \n",
    "    object_id_count = 0\n",
    "\n",
    "    for f in candidate_facilities:\n",
    "        object_id_count+=1\n",
    "        f.attributes.update({\"FacilityType\":0})\n",
    "    for f in competitor_facilities:\n",
    "        object_id_count+=1\n",
    "        f.attributes.update({\"FacilityType\":2, \"OBJECTID\":object_id_count})\n",
    "    \n",
    "    facilities_flist = []\n",
    "\n",
    "    for ea in candidate_facilities:\n",
    "        facilities_flist.append(ea)\n",
    "\n",
    "    for ea in competitor_facilities:\n",
    "        facilities_flist.append(ea)\n",
    "\n",
    "    facilities = features.FeatureSet(facilities_flist)\n",
    "    \n",
    "    # Weigh demand points by popualtion\n",
    "    for f in demand_points:\n",
    "        tmp = f.get_value(\"2020 Total Population\") \n",
    "        f.attributes.update({\"Weight\":tmp})\n",
    "        \n",
    "    result = network.analysis.solve_location_allocation(problem_type='Maximize Attendance',\n",
    "                                                        travel_direction='Demand to Facility',\n",
    "                                                        number_of_facilities_to_find='3',\n",
    "                                                        measurement_transformation_model=\"Linear\",\n",
    "                                                        measurement_transformation_factor=2,\n",
    "                                                        demand_points=demand_points,\n",
    "                                                        facilities=candidate_facilities,\n",
    "                                                        measurement_units='Minutes',\n",
    "                                                        default_measurement_cutoff=5\n",
    "                                                    )\n",
    "    print(f'Analysis succeeded? {zipcode}'.format(result.solve_succeeded))\n",
    "    result_df = result.output_facilities.sdf[['Name', 'FacilityType', \n",
    "                               'Weight','DemandCount', 'DemandWeight', 'TotalWeighted_Minutes', 'Total_Minutes']]\n",
    "    return result, result_df "
   ]
  },
  {
   "cell_type": "code",
   "execution_count": 33,
   "id": "0a27a046",
   "metadata": {},
   "outputs": [],
   "source": [
    "# Function to display results \n",
    "\n",
    "# Define a function to display the output analysis results in a map\n",
    "def visualize_locate_allocate_results(map_widget, solve_locate_allocate_result, zoom_level, symbol):\n",
    "    # The map widget\n",
    "    m = map_widget\n",
    "    # The locate-allocate analysis result\n",
    "    result = solve_locate_allocate_result\n",
    "    \n",
    "    # 1. Parse the locate-allocate analysis results\n",
    "    # Extract the output data from the analysis results\n",
    "    # Store the output points and lines in pandas dataframes\n",
    "    demand_df = result.output_demand_points.sdf\n",
    "    lines_df = result.output_allocation_lines.sdf\n",
    "\n",
    "    # Extract the allocated demand points (pop) data.\n",
    "    demand_allocated_df = demand_df[demand_df['DemandOID'].isin(lines_df['DemandOID'])]\n",
    "    demand_allocated_fset = features.FeatureSet.from_dataframe(demand_allocated_df)\n",
    "\n",
    "    # Extract the un-allocated demand points (pop) data.\n",
    "    demand_not_allocated_df = demand_df[~demand_df['DemandOID'].isin(lines_df['DemandOID'])]\n",
    "    if len(demand_not_allocated_df)>0:\n",
    "        demand_not_allocated_fset = features.FeatureSet.from_dataframe(demand_not_allocated_df)\n",
    "\n",
    "    # Extract the chosen facilities (candidate sites) data.\n",
    "    facilities_df = result.output_facilities.sdf[['Name', 'FacilityType', \n",
    "                                                 'Weight','DemandCount', 'DemandWeight', 'SHAPE']]\n",
    "    facilities_chosen_df = facilities_df[facilities_df['FacilityType'] == 3]\n",
    "    facilities_chosen_fset = features.FeatureSet.from_dataframe(facilities_chosen_df)\n",
    "\n",
    "    # 2. Define the map symbology\n",
    "    # Allocation lines\n",
    "    allocation_line_symbol_1 = {'type': 'esriSLS', 'style': 'esriSLSSolid',\n",
    "                                'color': [255,255,255,153], 'width': 0.7}\n",
    "\n",
    "    allocation_line_symbol_2 = {'type': 'esriSLS', 'style': 'esriSLSSolid',\n",
    "                                'color': [0,255,197,39], 'width': 3}\n",
    "\n",
    "    allocation_line_symbol_3 = {'type': 'esriSLS', 'style': 'esriSLSSolid',\n",
    "                                'color': [0,197,255,39], 'width': 5}\n",
    "    \n",
    "    allocation_line_symbol_4 = {'type': 'esriSLS', 'style': 'esriSLSSolid',\n",
    "                                'color': [0,92,230,39], 'width': 7}\n",
    "    \n",
    "    # Patient points within 90 minutes drive time to a proposed location.\n",
    "    allocated_demand_symbol = {'type' : 'esriPMS', 'url' : 'https://maps.esri.com/legends/Firefly/cool/1.png',\n",
    "                               'contentType' : 'image/png', 'width' : 26, 'height' : 26,\n",
    "                               'angle' : 0, 'xoffset' : 0, 'yoffset' : 0}\n",
    "\n",
    "    # Patient points outside of a 90 minutes drive time to a proposed location.\n",
    "    unallocated_demand_symbol = {'type' : 'esriPMS', 'url' : 'https://maps.esri.com/legends/Firefly/warm/1.png',\n",
    "                                 'contentType' : 'image/png', 'width' : 19.5, 'height' : 19.5,\n",
    "                                 'angle' : 0, 'xoffset' : 0, 'yoffset' : 0}\n",
    "\n",
    "    # Selected facilities\n",
    "    selected_facilities_symbol = {\"angle\":0,\"xoffset\":0,\"yoffset\":0,\"type\":\"esriPMS\",\n",
    "                                  \"url\":f\"{symbol}\",\n",
    "                                  \"contentType\":\"image/png\",\"width\":13,\"height\":13}\n",
    "    \n",
    "    # 3. Display the analysis results in the map\n",
    "    \n",
    "    # Zoom out to display all of the allocated census points.\n",
    "    m.zoom = zoom_level\n",
    "    \n",
    "    # Display the locations of pop within the specified drive time to the selected site(s).\n",
    "    m.draw(shape=demand_allocated_fset, symbol=allocated_demand_symbol)\n",
    "\n",
    "    # Display the locations of pop outside the specified drive time to the selected site(s).\n",
    "    if len(demand_not_allocated_df)>0:\n",
    "        m.draw(shape = demand_not_allocated_fset, symbol = unallocated_demand_symbol)\n",
    "\n",
    "    # Display the chosen site.\n",
    "    m.draw(shape=facilities_chosen_fset, symbol=selected_facilities_symbol)\n",
    "    m.draw(shape=result.output_allocation_lines, symbol=allocation_line_symbol_2)\n",
    "    m.draw(shape=result.output_allocation_lines, symbol=allocation_line_symbol_1)"
   ]
  },
  {
   "cell_type": "markdown",
   "id": "714bab8b",
   "metadata": {},
   "source": [
    "## Location Allocation: Naloxone Distribution Locations"
   ]
  },
  {
   "cell_type": "code",
   "execution_count": 35,
   "id": "45701131",
   "metadata": {},
   "outputs": [
    {
     "name": "stdout",
     "output_type": "stream",
     "text": [
      "Analysis succeeded? 92101\n",
      "Analysis succeeded? 92054\n",
      "Analysis succeeded? 92108\n"
     ]
    }
   ],
   "source": [
    "# Results for self-aid treatment across the 3 zipcodes \n",
    "result1, result1_df= location_allocation(lu_centroids_fl, census_tract_centroids_fl, \n",
    "                              naloxone_distribution_locations, '92101',\n",
    "                              vending_machine_lus)\n",
    "result2, result2_df = location_allocation(lu_centroids_fl, census_tract_centroids_fl, \n",
    "                              naloxone_distribution_locations, '92054',\n",
    "                              vending_machine_lus)\n",
    "result3, result3_df = location_allocation(lu_centroids_fl, census_tract_centroids_fl, \n",
    "                              naloxone_distribution_locations, '92108',\n",
    "                              vending_machine_lus)"
   ]
  },
  {
   "cell_type": "markdown",
   "id": "537ce10d",
   "metadata": {},
   "source": [
    "## Location Allocation: CA Bridge and Treament Centers"
   ]
  },
  {
   "cell_type": "code",
   "execution_count": 36,
   "id": "2a21f3c4",
   "metadata": {},
   "outputs": [],
   "source": [
    "hospital_treatment_competitors = gis.content.get(\"dd67aa51f0904bbab40adf37410682ee\")\n",
    "first_aid_symbol = \"https://static.arcgis.com/images/Symbols/Emergency-Management/Community-Events-First-Aid.png\""
   ]
  },
  {
   "cell_type": "code",
   "execution_count": 37,
   "id": "cc4876e9",
   "metadata": {
    "scrolled": false
   },
   "outputs": [
    {
     "name": "stdout",
     "output_type": "stream",
     "text": [
      "Analysis succeeded? 92101\n",
      "Analysis succeeded? 92054\n",
      "Analysis succeeded? 92108\n"
     ]
    }
   ],
   "source": [
    "# Results for self-aid treatment across the 3 zipcodes \n",
    "result4, result4_df= location_allocation(lu_centroids_fl, census_tract_centroids_fl, \n",
    "                              hospital_treatment_competitors, '92101',\n",
    "                              hospital_treatment_lus)\n",
    "result5, result5_df = location_allocation(lu_centroids_fl, census_tract_centroids_fl, \n",
    "                              hospital_treatment_competitors, '92054',\n",
    "                              hospital_treatment_lus)\n",
    "result6, result6_df = location_allocation(lu_centroids_fl, census_tract_centroids_fl, \n",
    "                              hospital_treatment_competitors, '92108',\n",
    "                              hospital_treatment_lus)"
   ]
  },
  {
   "cell_type": "markdown",
   "id": "1ddfd354",
   "metadata": {},
   "source": [
    "# 10) Results & Summary"
   ]
  },
  {
   "cell_type": "code",
   "execution_count": 38,
   "id": "d9622f75",
   "metadata": {},
   "outputs": [
    {
     "data": {
      "application/vnd.jupyter.widget-view+json": {
       "model_id": "af3fc28304ef440791f43f27de136646",
       "version_major": 2,
       "version_minor": 0
      },
      "text/plain": [
       "MapView(layout=Layout(height='400px', width='100%'))"
      ]
     },
     "metadata": {},
     "output_type": "display_data"
    },
    {
     "data": {
      "text/html": [
       "<div class=\"map-static-img-preview-048b6985-4398-4071-9cb9-73f43b449228\"><img src=\"\"></img></div>"
      ],
      "text/plain": [
       "<IPython.core.display.HTML object>"
      ]
     },
     "metadata": {},
     "output_type": "display_data"
    },
    {
     "data": {
      "text/html": [
       "<div class=\"map-html-embed-preview-048b6985-4398-4071-9cb9-73f43b449228\"></div>"
      ],
      "text/plain": [
       "<IPython.core.display.HTML object>"
      ]
     },
     "metadata": {},
     "output_type": "display_data"
    }
   ],
   "source": [
    "# Displaying results \n",
    "\n",
    "drug_symbol = \"https://static.arcgis.com/images/Symbols/Emergency-Management/Law-Enforcement-Drug-Offense.png\"\n",
    "map1 = gis.map('San Diego CA')\n",
    "map1"
   ]
  },
  {
   "cell_type": "markdown",
   "id": "10666ca5",
   "metadata": {},
   "source": [
    "**NOTE: To view please run cell below after running cell above so that the function can draw the results on the map**\n",
    "\n",
    "The grey pill symbols represent the optimized locations for new naloxone distribution sites and the green plus symbols represent new potential healthcare facilities. Both resutls maximized on attendance so that we reach the most people in the area so that they can have access to these resources. "
   ]
  },
  {
   "cell_type": "code",
   "execution_count": 39,
   "id": "b065a760",
   "metadata": {},
   "outputs": [],
   "source": [
    "# Plotting results in map1\n",
    "visualize_locate_allocate_results(map1, result1, 8,drug_symbol)\n",
    "visualize_locate_allocate_results(map1, result2, 8,drug_symbol)\n",
    "visualize_locate_allocate_results(map1, result3, 8,drug_symbol)\n",
    "\n",
    "# Plotting results in map1\n",
    "visualize_locate_allocate_results(map1, result4, 8, first_aid_symbol)\n",
    "visualize_locate_allocate_results(map1, result5, 8, first_aid_symbol)\n",
    "visualize_locate_allocate_results(map1, result6, 8, first_aid_symbol)"
   ]
  },
  {
   "cell_type": "code",
   "execution_count": 40,
   "id": "92144b65",
   "metadata": {},
   "outputs": [
    {
     "data": {
      "text/html": [
       "<div class=\"item_container\" style=\"height: auto; overflow: hidden; border: 1px solid #cfcfcf; border-radius: 2px; background: #f6fafa; line-height: 1.21429em; padding: 10px;\">\n",
       "                    <div class=\"item_left\" style=\"width: 210px; float: left;\">\n",
       "                       <a href='https://UCSDOnline.maps.arcgis.com/home/item.html?id=825939bb0acc4dc199ac37cb94986f31' target='_blank'>\n",
       "                        <img src='http://static.arcgis.com/images/desktopapp.png' class=\"itemThumbnail\">\n",
       "                       </a>\n",
       "                    </div>\n",
       "\n",
       "                    <div class=\"item_right\"     style=\"float: none; width: auto; overflow: hidden;\">\n",
       "                        <a href='https://UCSDOnline.maps.arcgis.com/home/item.html?id=825939bb0acc4dc199ac37cb94986f31' target='_blank'><b>Location Allocation of Fentanyl Resource in San Diego</b>\n",
       "                        </a>\n",
       "                        <br/>Location Allocation<img src='https://UCSDOnline.maps.arcgis.com/home/js/jsapi/esri/css/images/item_type_icons/maps16.png' style=\"vertical-align:middle;\" width=16 height=16>Web Map by jpuray_UCSDOnline\n",
       "                        <br/>Last Modified: March 21, 2024\n",
       "                        <br/>0 comments, 0 views\n",
       "                    </div>\n",
       "                </div>\n",
       "                "
      ],
      "text/plain": [
       "<Item title:\"Location Allocation of Fentanyl Resource in San Diego\" type:Web Map owner:jpuray_UCSDOnline>"
      ]
     },
     "execution_count": 40,
     "metadata": {},
     "output_type": "execute_result"
    }
   ],
   "source": [
    "# Saving Results in web map\n",
    "\n",
    "item_properties = {\n",
    "    \"title\": \"Location Allocation of Fentanyl Resource in San Diego\",\n",
    "    \"tags\" : \"Location Allocation\",\n",
    "    \"snippet\": \"Location Allocation\",\n",
    "    \"description\": \"A web map of Location Allocation for Naloxone Locations in San Diego\"\n",
    "}\n",
    "\n",
    "item = map1.save(item_properties)\n",
    "item"
   ]
  },
  {
   "cell_type": "markdown",
   "id": "9877beed",
   "metadata": {},
   "source": [
    "Utilizing location allocation, we were able to create a reproducible way to find the most optimal locations to place Opioid-Fentanyl treatment resources in any chosen zip code in San Diego County. \n",
    "\n",
    "To demonstrate the reproducibility of our analysis, we were able to perform location allocation for the top three zip codes with the highest Fentanyl death rate. Through our location allocation analysis, we were able to find the most optimized locations to place Naloxone distribution centers as well as healthcare facilities used for Fentanyl overdose treatment and rehabilitation. These results are important because they help increase individuals’ access to no-cost Opioid treatment and healthcare. With self-administered treatment and healthcare facilities, we were able to maximize coverage at high risk areas.\n",
    "\n",
    "This solution will significantly strengthen our community’s resilience against the Opioid crisis saving lives and helping those in need of rehabilitation. Especially within the homeless community where free healthcare is invaluable, this solution will hopefully help the homeless community reclaim their lives and reintegrate into society. "
   ]
  },
  {
   "cell_type": "markdown",
   "id": "2e3c4f2d",
   "metadata": {},
   "source": [
    "# 11) Discussion"
   ]
  },
  {
   "cell_type": "markdown",
   "id": "1b43fae5",
   "metadata": {},
   "source": [
    "Our analysis findings closely align with those outlined in the 2021 San Diego Overdose Report. Like the report, we observed a notable increase in fentanyl overdose deaths, particularly evident from 2018 to the present. This underscores the critical need to enhance accessibility to resources and strategically place them in key locations to provide the most help to vulnerable groups. Moreover, our analysis revealed certain demographic groups, such as  males aged between 29 and 60, as being particularly vulnerable to Fentanyl overdose deaths.\n",
    "\n",
    "An important tradeoff or limiation of our analysis is the spatial joining of zip code study areas with Census tracts to calculate demand points. We used the \"intersects\" spatial relationship to join these two, anticipating that it would yield a more Census tracts compared to other spatial join techniques. This decision was driven by the objective of maximizing the inclusion of Census tracts for analysis purposes. Additionally, due to performance issues with the land use dataset, we made the decision to utilize only the top three zip codes. Originally, we intended to incorporate the top 5-8 zip codes, but this adjustment was made due to the limitations of the relocation allocation solver. "
   ]
  },
  {
   "cell_type": "markdown",
   "id": "edad8907",
   "metadata": {},
   "source": [
    "# 12) Conclusions and Future Work"
   ]
  },
  {
   "cell_type": "markdown",
   "id": "6aff1d07",
   "metadata": {},
   "source": [
    "Using location allocation we were able to asnwer and find the most optimal places fentanyl treatment facilities and naloxone distribution sites given the data available. However, the quality of our data was not the best and we are not confident that this is these truly are the best locations for the new resources, leaving us uncertain about the accuracy of our chosen locations for these new resources.\n",
    "\n",
    "Our dataset identified fentanyl overdose death locations by zip codes, encompassing broad areas. Access to more detailed data, such as precise addresses or coordinates of these incidents, could enable us to define more targeted study areas for resource placement. Additionally, in assessing demand points, we relied solely on population data. Yet, exploratory data analysis and literature review suggest that certain demographic groups, such as African Americans, males, and individuals aged 20-40, are more affected by fentanyl overdoses. With access to more granular population data and demographic information, we could have refined our demand points, thereby optimizing resource placement to better serve those most affected.\n",
    "\n",
    "Our approach holds potential applicability beyond fentanyl-related initiatives, extending to various location optimization endeavors. We aspire that our findings may guide the County of San Diego in strategically situating resources to combat the rise of fentanyl overdose deaths.\n"
   ]
  }
 ],
 "metadata": {
  "kernelspec": {
   "display_name": "Python 3 (ipykernel)",
   "language": "python",
   "name": "python3"
  },
  "language_info": {
   "codemirror_mode": {
    "name": "ipython",
    "version": 3
   },
   "file_extension": ".py",
   "mimetype": "text/x-python",
   "name": "python",
   "nbconvert_exporter": "python",
   "pygments_lexer": "ipython3",
   "version": "3.9.5"
  }
 },
 "nbformat": 4,
 "nbformat_minor": 5
}
